{
 "cells": [
  {
   "cell_type": "code",
   "execution_count": 1,
   "metadata": {
    "executionInfo": {
     "elapsed": 4,
     "status": "ok",
     "timestamp": 1634764322708,
     "user": {
      "displayName": "José Pereira",
      "photoUrl": "https://lh3.googleusercontent.com/a-/AOh14Gg_vB6ycICg8k85y5qzz_rIwDb0hgH0qeL9u3Jq=s64",
      "userId": "11720796622572378519"
     },
     "user_tz": -60
    },
    "id": "d4P39cSwpj4l"
   },
   "outputs": [],
   "source": [
    "import pandas as pd\n",
    "# pandas is built on top of numpy, but recognizes the need for data analysts to handle mixed data types\n",
    "# it is designed for relational tables"
   ]
  },
  {
   "cell_type": "code",
   "execution_count": 2,
   "metadata": {
    "executionInfo": {
     "elapsed": 267,
     "status": "ok",
     "timestamp": 1634764362745,
     "user": {
      "displayName": "José Pereira",
      "photoUrl": "https://lh3.googleusercontent.com/a-/AOh14Gg_vB6ycICg8k85y5qzz_rIwDb0hgH0qeL9u3Jq=s64",
      "userId": "11720796622572378519"
     },
     "user_tz": -60
    },
    "id": "xFhKKcW7udE9"
   },
   "outputs": [],
   "source": [
    "# when you have a pandas object with only one column -> Data Series. Commonly generated from a List.\n",
    "\n",
    "my_series = pd.Series([\"John Lenon\",\"Paul McCartney\",\"George Harrison\",\"Ringo Starr\",\"Jose Pereira\"])\n",
    "\n",
    "# a pandas series comes with an extra column for free!!!! -> index"
   ]
  },
  {
   "cell_type": "code",
   "execution_count": 3,
   "metadata": {
    "colab": {
     "base_uri": "https://localhost:8080/",
     "height": 119
    },
    "executionInfo": {
     "elapsed": 415,
     "status": "ok",
     "timestamp": 1634764364719,
     "user": {
      "displayName": "José Pereira",
      "photoUrl": "https://lh3.googleusercontent.com/a-/AOh14Gg_vB6ycICg8k85y5qzz_rIwDb0hgH0qeL9u3Jq=s64",
      "userId": "11720796622572378519"
     },
     "user_tz": -60
    },
    "id": "Mf6ihpZIulLK",
    "outputId": "e556ac15-ab8c-4453-e5a2-6654bd973d79"
   },
   "outputs": [
    {
     "data": {
      "text/plain": [
       "0         John Lenon\n",
       "1     Paul McCartney\n",
       "2    George Harrison\n",
       "3        Ringo Starr\n",
       "4       Jose Pereira\n",
       "dtype: object"
      ]
     },
     "metadata": {},
     "output_type": "display_data"
    }
   ],
   "source": [
    "display(my_series)"
   ]
  },
  {
   "cell_type": "code",
   "execution_count": 4,
   "metadata": {
    "colab": {
     "base_uri": "https://localhost:8080/"
    },
    "executionInfo": {
     "elapsed": 360,
     "status": "ok",
     "timestamp": 1634764367745,
     "user": {
      "displayName": "José Pereira",
      "photoUrl": "https://lh3.googleusercontent.com/a-/AOh14Gg_vB6ycICg8k85y5qzz_rIwDb0hgH0qeL9u3Jq=s64",
      "userId": "11720796622572378519"
     },
     "user_tz": -60
    },
    "id": "7cmfXYHHvq7f",
    "outputId": "bad56dac-298c-4cc1-ff77-f91e03d3b50c"
   },
   "outputs": [
    {
     "data": {
      "text/plain": [
       "['John Lenon',\n",
       " 'Paul McCartney',\n",
       " 'George Harrison',\n",
       " 'Ringo Starr',\n",
       " 'Jose Pereira']"
      ]
     },
     "execution_count": 4,
     "metadata": {},
     "output_type": "execute_result"
    }
   ],
   "source": [
    "# you can get the values of a series back into a list\n",
    "my_list = list(my_series)\n",
    "my_list"
   ]
  },
  {
   "cell_type": "code",
   "execution_count": 5,
   "metadata": {
    "colab": {
     "base_uri": "https://localhost:8080/"
    },
    "executionInfo": {
     "elapsed": 440,
     "status": "ok",
     "timestamp": 1634764374545,
     "user": {
      "displayName": "José Pereira",
      "photoUrl": "https://lh3.googleusercontent.com/a-/AOh14Gg_vB6ycICg8k85y5qzz_rIwDb0hgH0qeL9u3Jq=s64",
      "userId": "11720796622572378519"
     },
     "user_tz": -60
    },
    "id": "0avsWL--wXI7",
    "outputId": "ec437676-7e33-4367-b306-15634fb0c193"
   },
   "outputs": [
    {
     "data": {
      "text/plain": [
       "California    38332521\n",
       "Texas         26448193\n",
       "New York      19651127\n",
       "Florida       19552860\n",
       "Illinois      12882135\n",
       "dtype: int64"
      ]
     },
     "execution_count": 5,
     "metadata": {},
     "output_type": "execute_result"
    }
   ],
   "source": [
    "#dictionaries lend themselves naturally to become series\n",
    "population_dict = {'California': 38332521,\n",
    "                   'Texas': 26448193,\n",
    "                   'New York': 19651127,\n",
    "                   'Florida': 19552860,\n",
    "                   'Illinois': 12882135}\n",
    "\n",
    "pd.Series(population_dict)\n",
    "\n",
    "# pandas dataframes were created to interact naturally with objects like lists, dictionaries, tuples (+-) \n",
    "# data series only have ONE column -> if you want more, lets go to dataframes"
   ]
  },
  {
   "cell_type": "code",
   "execution_count": 6,
   "metadata": {
    "executionInfo": {
     "elapsed": 413,
     "status": "ok",
     "timestamp": 1634764410589,
     "user": {
      "displayName": "José Pereira",
      "photoUrl": "https://lh3.googleusercontent.com/a-/AOh14Gg_vB6ycICg8k85y5qzz_rIwDb0hgH0qeL9u3Jq=s64",
      "userId": "11720796622572378519"
     },
     "user_tz": -60
    },
    "id": "-tSkyfv-7wY9"
   },
   "outputs": [],
   "source": [
    "# a dataframe is a bunch of pandas series side by side\n",
    "# or a bunch of dictionaries with shared keys"
   ]
  },
  {
   "cell_type": "code",
   "execution_count": 7,
   "metadata": {
    "executionInfo": {
     "elapsed": 239,
     "status": "ok",
     "timestamp": 1634764412709,
     "user": {
      "displayName": "José Pereira",
      "photoUrl": "https://lh3.googleusercontent.com/a-/AOh14Gg_vB6ycICg8k85y5qzz_rIwDb0hgH0qeL9u3Jq=s64",
      "userId": "11720796622572378519"
     },
     "user_tz": -60
    },
    "id": "aUKN-lGt8p5w"
   },
   "outputs": [],
   "source": [
    "names = [\"John Lenon\",\"Paul McCartney\",\"George Harrison\",\"Ringo Starr\",\"Jose Pereira\"]\n",
    "instruments = [\"Vocals\",\"Bass\",\"Bass\",\"Drums\",\"Triangle\"]\n",
    "tenure = [9,12,12,8,1]\n",
    "num_fans = [9000,2400,2000,1600,6]"
   ]
  },
  {
   "cell_type": "code",
   "execution_count": 8,
   "metadata": {
    "colab": {
     "base_uri": "https://localhost:8080/",
     "height": 173
    },
    "executionInfo": {
     "elapsed": 7,
     "status": "ok",
     "timestamp": 1634764414280,
     "user": {
      "displayName": "José Pereira",
      "photoUrl": "https://lh3.googleusercontent.com/a-/AOh14Gg_vB6ycICg8k85y5qzz_rIwDb0hgH0qeL9u3Jq=s64",
      "userId": "11720796622572378519"
     },
     "user_tz": -60
    },
    "id": "DKRSeOOoDqgp",
    "outputId": "6ff812ab-9d9f-41c7-d688-7e56b56c96c6"
   },
   "outputs": [
    {
     "data": {
      "text/html": [
       "<div>\n",
       "<style scoped>\n",
       "    .dataframe tbody tr th:only-of-type {\n",
       "        vertical-align: middle;\n",
       "    }\n",
       "\n",
       "    .dataframe tbody tr th {\n",
       "        vertical-align: top;\n",
       "    }\n",
       "\n",
       "    .dataframe thead th {\n",
       "        text-align: right;\n",
       "    }\n",
       "</style>\n",
       "<table border=\"1\" class=\"dataframe\">\n",
       "  <thead>\n",
       "    <tr style=\"text-align: right;\">\n",
       "      <th></th>\n",
       "      <th>0</th>\n",
       "      <th>1</th>\n",
       "      <th>2</th>\n",
       "      <th>3</th>\n",
       "      <th>4</th>\n",
       "    </tr>\n",
       "  </thead>\n",
       "  <tbody>\n",
       "    <tr>\n",
       "      <th>0</th>\n",
       "      <td>John Lenon</td>\n",
       "      <td>Paul McCartney</td>\n",
       "      <td>George Harrison</td>\n",
       "      <td>Ringo Starr</td>\n",
       "      <td>Jose Pereira</td>\n",
       "    </tr>\n",
       "    <tr>\n",
       "      <th>1</th>\n",
       "      <td>Vocals</td>\n",
       "      <td>Bass</td>\n",
       "      <td>Bass</td>\n",
       "      <td>Drums</td>\n",
       "      <td>Triangle</td>\n",
       "    </tr>\n",
       "    <tr>\n",
       "      <th>2</th>\n",
       "      <td>9</td>\n",
       "      <td>12</td>\n",
       "      <td>12</td>\n",
       "      <td>8</td>\n",
       "      <td>1</td>\n",
       "    </tr>\n",
       "    <tr>\n",
       "      <th>3</th>\n",
       "      <td>9000</td>\n",
       "      <td>2400</td>\n",
       "      <td>2000</td>\n",
       "      <td>1600</td>\n",
       "      <td>6</td>\n",
       "    </tr>\n",
       "  </tbody>\n",
       "</table>\n",
       "</div>"
      ],
      "text/plain": [
       "            0               1                2            3             4\n",
       "0  John Lenon  Paul McCartney  George Harrison  Ringo Starr  Jose Pereira\n",
       "1      Vocals            Bass             Bass        Drums      Triangle\n",
       "2           9              12               12            8             1\n",
       "3        9000            2400             2000         1600             6"
      ]
     },
     "execution_count": 8,
     "metadata": {},
     "output_type": "execute_result"
    }
   ],
   "source": [
    "pd.DataFrame([names, instruments,tenure,num_fans])"
   ]
  },
  {
   "cell_type": "code",
   "execution_count": 9,
   "metadata": {
    "colab": {
     "base_uri": "https://localhost:8080/",
     "height": 289
    },
    "executionInfo": {
     "elapsed": 329,
     "status": "ok",
     "timestamp": 1634764450640,
     "user": {
      "displayName": "José Pereira",
      "photoUrl": "https://lh3.googleusercontent.com/a-/AOh14Gg_vB6ycICg8k85y5qzz_rIwDb0hgH0qeL9u3Jq=s64",
      "userId": "11720796622572378519"
     },
     "user_tz": -60
    },
    "id": "uxboovNREQRS",
    "outputId": "37d4e88a-89dc-4d8c-957f-23cae63b811f"
   },
   "outputs": [
    {
     "data": {
      "text/plain": [
       "array([['John Lenon', 'Vocals', '9', '9000'],\n",
       "       ['Paul McCartney', 'Bass', '12', '2400'],\n",
       "       ['George Harrison', 'Bass', '12', '2000'],\n",
       "       ['Ringo Starr', 'Drums', '8', '1600'],\n",
       "       ['Jose Pereira', 'Triangle', '1', '6']], dtype='<U15')"
      ]
     },
     "metadata": {},
     "output_type": "display_data"
    },
    {
     "data": {
      "text/html": [
       "<div>\n",
       "<style scoped>\n",
       "    .dataframe tbody tr th:only-of-type {\n",
       "        vertical-align: middle;\n",
       "    }\n",
       "\n",
       "    .dataframe tbody tr th {\n",
       "        vertical-align: top;\n",
       "    }\n",
       "\n",
       "    .dataframe thead th {\n",
       "        text-align: right;\n",
       "    }\n",
       "</style>\n",
       "<table border=\"1\" class=\"dataframe\">\n",
       "  <thead>\n",
       "    <tr style=\"text-align: right;\">\n",
       "      <th></th>\n",
       "      <th>0</th>\n",
       "      <th>1</th>\n",
       "      <th>2</th>\n",
       "      <th>3</th>\n",
       "    </tr>\n",
       "  </thead>\n",
       "  <tbody>\n",
       "    <tr>\n",
       "      <th>0</th>\n",
       "      <td>John Lenon</td>\n",
       "      <td>Vocals</td>\n",
       "      <td>9</td>\n",
       "      <td>9000</td>\n",
       "    </tr>\n",
       "    <tr>\n",
       "      <th>1</th>\n",
       "      <td>Paul McCartney</td>\n",
       "      <td>Bass</td>\n",
       "      <td>12</td>\n",
       "      <td>2400</td>\n",
       "    </tr>\n",
       "    <tr>\n",
       "      <th>2</th>\n",
       "      <td>George Harrison</td>\n",
       "      <td>Bass</td>\n",
       "      <td>12</td>\n",
       "      <td>2000</td>\n",
       "    </tr>\n",
       "    <tr>\n",
       "      <th>3</th>\n",
       "      <td>Ringo Starr</td>\n",
       "      <td>Drums</td>\n",
       "      <td>8</td>\n",
       "      <td>1600</td>\n",
       "    </tr>\n",
       "    <tr>\n",
       "      <th>4</th>\n",
       "      <td>Jose Pereira</td>\n",
       "      <td>Triangle</td>\n",
       "      <td>1</td>\n",
       "      <td>6</td>\n",
       "    </tr>\n",
       "  </tbody>\n",
       "</table>\n",
       "</div>"
      ],
      "text/plain": [
       "                 0         1   2     3\n",
       "0       John Lenon    Vocals   9  9000\n",
       "1   Paul McCartney      Bass  12  2400\n",
       "2  George Harrison      Bass  12  2000\n",
       "3      Ringo Starr     Drums   8  1600\n",
       "4     Jose Pereira  Triangle   1     6"
      ]
     },
     "execution_count": 9,
     "metadata": {},
     "output_type": "execute_result"
    }
   ],
   "source": [
    "# usually in data analysis we have each different object in each row and each different attribute of objects in the columns.\n",
    "# Seems like a good use for the transpose function. Transpose rotates the table\n",
    "import numpy as np\n",
    "\n",
    "transposed = np.array([names, instruments,tenure,num_fans]).transpose()\n",
    "display(transposed)\n",
    "\n",
    "pd.DataFrame(transposed)"
   ]
  },
  {
   "cell_type": "code",
   "execution_count": 10,
   "metadata": {
    "colab": {
     "base_uri": "https://localhost:8080/",
     "height": 204
    },
    "executionInfo": {
     "elapsed": 313,
     "status": "ok",
     "timestamp": 1634764510498,
     "user": {
      "displayName": "José Pereira",
      "photoUrl": "https://lh3.googleusercontent.com/a-/AOh14Gg_vB6ycICg8k85y5qzz_rIwDb0hgH0qeL9u3Jq=s64",
      "userId": "11720796622572378519"
     },
     "user_tz": -60
    },
    "id": "BrQklhmbEvML",
    "outputId": "df6fd17f-a71f-42df-b381-829bed022ecd"
   },
   "outputs": [
    {
     "data": {
      "text/html": [
       "<div>\n",
       "<style scoped>\n",
       "    .dataframe tbody tr th:only-of-type {\n",
       "        vertical-align: middle;\n",
       "    }\n",
       "\n",
       "    .dataframe tbody tr th {\n",
       "        vertical-align: top;\n",
       "    }\n",
       "\n",
       "    .dataframe thead th {\n",
       "        text-align: right;\n",
       "    }\n",
       "</style>\n",
       "<table border=\"1\" class=\"dataframe\">\n",
       "  <thead>\n",
       "    <tr style=\"text-align: right;\">\n",
       "      <th></th>\n",
       "      <th>name</th>\n",
       "      <th>instrument</th>\n",
       "      <th>tenure</th>\n",
       "      <th>num_fans</th>\n",
       "    </tr>\n",
       "  </thead>\n",
       "  <tbody>\n",
       "    <tr>\n",
       "      <th>0</th>\n",
       "      <td>John Lenon</td>\n",
       "      <td>Vocals</td>\n",
       "      <td>9</td>\n",
       "      <td>9000</td>\n",
       "    </tr>\n",
       "    <tr>\n",
       "      <th>1</th>\n",
       "      <td>Paul McCartney</td>\n",
       "      <td>Bass</td>\n",
       "      <td>12</td>\n",
       "      <td>2400</td>\n",
       "    </tr>\n",
       "    <tr>\n",
       "      <th>2</th>\n",
       "      <td>George Harrison</td>\n",
       "      <td>Bass</td>\n",
       "      <td>12</td>\n",
       "      <td>2000</td>\n",
       "    </tr>\n",
       "    <tr>\n",
       "      <th>3</th>\n",
       "      <td>Ringo Starr</td>\n",
       "      <td>Drums</td>\n",
       "      <td>8</td>\n",
       "      <td>1600</td>\n",
       "    </tr>\n",
       "    <tr>\n",
       "      <th>4</th>\n",
       "      <td>Jose Pereira</td>\n",
       "      <td>Triangle</td>\n",
       "      <td>1</td>\n",
       "      <td>6</td>\n",
       "    </tr>\n",
       "  </tbody>\n",
       "</table>\n",
       "</div>"
      ],
      "text/plain": [
       "              name instrument tenure num_fans\n",
       "0       John Lenon     Vocals      9     9000\n",
       "1   Paul McCartney       Bass     12     2400\n",
       "2  George Harrison       Bass     12     2000\n",
       "3      Ringo Starr      Drums      8     1600\n",
       "4     Jose Pereira   Triangle      1        6"
      ]
     },
     "execution_count": 10,
     "metadata": {},
     "output_type": "execute_result"
    }
   ],
   "source": [
    "#let's just add meaningful column names\n",
    "\n",
    "beatles_df = pd.DataFrame(transposed, columns=['name','instrument','tenure','num_fans'])\n",
    "beatles_df"
   ]
  },
  {
   "cell_type": "code",
   "execution_count": 19,
   "metadata": {
    "colab": {
     "base_uri": "https://localhost:8080/",
     "height": 142
    },
    "executionInfo": {
     "elapsed": 415,
     "status": "ok",
     "timestamp": 1634764668439,
     "user": {
      "displayName": "José Pereira",
      "photoUrl": "https://lh3.googleusercontent.com/a-/AOh14Gg_vB6ycICg8k85y5qzz_rIwDb0hgH0qeL9u3Jq=s64",
      "userId": "11720796622572378519"
     },
     "user_tz": -60
    },
    "id": "6X3EIE9vFEgn",
    "outputId": "43ff58c9-93e8-499a-a104-7ce6aee12f9a"
   },
   "outputs": [
    {
     "data": {
      "text/html": [
       "<div>\n",
       "<style scoped>\n",
       "    .dataframe tbody tr th:only-of-type {\n",
       "        vertical-align: middle;\n",
       "    }\n",
       "\n",
       "    .dataframe tbody tr th {\n",
       "        vertical-align: top;\n",
       "    }\n",
       "\n",
       "    .dataframe thead th {\n",
       "        text-align: right;\n",
       "    }\n",
       "</style>\n",
       "<table border=\"1\" class=\"dataframe\">\n",
       "  <thead>\n",
       "    <tr style=\"text-align: right;\">\n",
       "      <th></th>\n",
       "      <th>tenure</th>\n",
       "    </tr>\n",
       "  </thead>\n",
       "  <tbody>\n",
       "    <tr>\n",
       "      <th>1</th>\n",
       "      <td>12</td>\n",
       "    </tr>\n",
       "    <tr>\n",
       "      <th>2</th>\n",
       "      <td>12</td>\n",
       "    </tr>\n",
       "    <tr>\n",
       "      <th>3</th>\n",
       "      <td>8</td>\n",
       "    </tr>\n",
       "  </tbody>\n",
       "</table>\n",
       "</div>"
      ],
      "text/plain": [
       "  tenure\n",
       "1     12\n",
       "2     12\n",
       "3      8"
      ]
     },
     "execution_count": 19,
     "metadata": {},
     "output_type": "execute_result"
    }
   ],
   "source": [
    "# we can look at this dataframe as a dictionary where each key correspondes to multiple values\n",
    "# amazingly, dataframes are indexed both in the rows and in the columns!\n",
    "\n",
    "#we can slice the dataframe by name\n",
    "beatles_df[1:3] # row name \n",
    "\n",
    "#beatles_df[['instrument','num_fans']] #column name\n",
    "\n",
    "#exception: a single column can be called without double bracket. It returns a Series\n",
    "#beatles_df['instrument']\n",
    "\n",
    "\n",
    "#or by location\n",
    "#beatles_df.iloc[3:5]\n",
    "#beatles_df.iloc[:,1:3]\n",
    "#beatles_df.iloc[1:4,2:-1]"
   ]
  },
  {
   "cell_type": "code",
   "execution_count": 18,
   "metadata": {
    "colab": {
     "base_uri": "https://localhost:8080/",
     "height": 204
    },
    "executionInfo": {
     "elapsed": 406,
     "status": "ok",
     "timestamp": 1634764648570,
     "user": {
      "displayName": "José Pereira",
      "photoUrl": "https://lh3.googleusercontent.com/a-/AOh14Gg_vB6ycICg8k85y5qzz_rIwDb0hgH0qeL9u3Jq=s64",
      "userId": "11720796622572378519"
     },
     "user_tz": -60
    },
    "id": "__RS2VAPFEmf",
    "outputId": "62a1bca0-c93d-498b-e75d-1ca91281d181"
   },
   "outputs": [
    {
     "data": {
      "text/html": [
       "<div>\n",
       "<style scoped>\n",
       "    .dataframe tbody tr th:only-of-type {\n",
       "        vertical-align: middle;\n",
       "    }\n",
       "\n",
       "    .dataframe tbody tr th {\n",
       "        vertical-align: top;\n",
       "    }\n",
       "\n",
       "    .dataframe thead th {\n",
       "        text-align: right;\n",
       "    }\n",
       "</style>\n",
       "<table border=\"1\" class=\"dataframe\">\n",
       "  <thead>\n",
       "    <tr style=\"text-align: right;\">\n",
       "      <th></th>\n",
       "      <th>name</th>\n",
       "      <th>instrument</th>\n",
       "      <th>tenure</th>\n",
       "      <th>num_fans</th>\n",
       "    </tr>\n",
       "  </thead>\n",
       "  <tbody>\n",
       "    <tr>\n",
       "      <th>0</th>\n",
       "      <td>John Lenon</td>\n",
       "      <td>Vocals</td>\n",
       "      <td>9</td>\n",
       "      <td>9000</td>\n",
       "    </tr>\n",
       "    <tr>\n",
       "      <th>1</th>\n",
       "      <td>Paul McCartney</td>\n",
       "      <td>Bass</td>\n",
       "      <td>12</td>\n",
       "      <td>2400</td>\n",
       "    </tr>\n",
       "    <tr>\n",
       "      <th>2</th>\n",
       "      <td>George Harrison</td>\n",
       "      <td>Bass</td>\n",
       "      <td>12</td>\n",
       "      <td>2000</td>\n",
       "    </tr>\n",
       "    <tr>\n",
       "      <th>3</th>\n",
       "      <td>Ringo Starr</td>\n",
       "      <td>Drums</td>\n",
       "      <td>8</td>\n",
       "      <td>1600</td>\n",
       "    </tr>\n",
       "    <tr>\n",
       "      <th>4</th>\n",
       "      <td>Jose Pereira</td>\n",
       "      <td>Triangle</td>\n",
       "      <td>1</td>\n",
       "      <td>6</td>\n",
       "    </tr>\n",
       "  </tbody>\n",
       "</table>\n",
       "</div>"
      ],
      "text/plain": [
       "              name instrument tenure num_fans\n",
       "0       John Lenon     Vocals      9     9000\n",
       "1   Paul McCartney       Bass     12     2400\n",
       "2  George Harrison       Bass     12     2000\n",
       "3      Ringo Starr      Drums      8     1600\n",
       "4     Jose Pereira   Triangle      1        6"
      ]
     },
     "execution_count": 18,
     "metadata": {},
     "output_type": "execute_result"
    }
   ],
   "source": [
    "#dataframes are mutable\n",
    "beatles_df\n",
    "#beatles_df.iloc[0,3]\n",
    "#beatles_df.iloc[0,3] = 8000\n",
    "#beatles_df"
   ]
  },
  {
   "cell_type": "code",
   "execution_count": 21,
   "metadata": {
    "colab": {
     "base_uri": "https://localhost:8080/",
     "height": 204
    },
    "executionInfo": {
     "elapsed": 423,
     "status": "ok",
     "timestamp": 1634764735819,
     "user": {
      "displayName": "José Pereira",
      "photoUrl": "https://lh3.googleusercontent.com/a-/AOh14Gg_vB6ycICg8k85y5qzz_rIwDb0hgH0qeL9u3Jq=s64",
      "userId": "11720796622572378519"
     },
     "user_tz": -60
    },
    "id": "gYt9MeKRHkyp",
    "outputId": "29d6f809-ad99-4d43-d3f3-4c19a6543e60"
   },
   "outputs": [
    {
     "data": {
      "text/html": [
       "<div>\n",
       "<style scoped>\n",
       "    .dataframe tbody tr th:only-of-type {\n",
       "        vertical-align: middle;\n",
       "    }\n",
       "\n",
       "    .dataframe tbody tr th {\n",
       "        vertical-align: top;\n",
       "    }\n",
       "\n",
       "    .dataframe thead th {\n",
       "        text-align: right;\n",
       "    }\n",
       "</style>\n",
       "<table border=\"1\" class=\"dataframe\">\n",
       "  <thead>\n",
       "    <tr style=\"text-align: right;\">\n",
       "      <th></th>\n",
       "      <th>name</th>\n",
       "      <th>instrument</th>\n",
       "      <th>tenure</th>\n",
       "      <th>num_fans</th>\n",
       "    </tr>\n",
       "  </thead>\n",
       "  <tbody>\n",
       "    <tr>\n",
       "      <th>0</th>\n",
       "      <td>John Lenon</td>\n",
       "      <td>Vocals</td>\n",
       "      <td>9</td>\n",
       "      <td>9000</td>\n",
       "    </tr>\n",
       "    <tr>\n",
       "      <th>1</th>\n",
       "      <td>Paul McCartney</td>\n",
       "      <td>Bass</td>\n",
       "      <td>12</td>\n",
       "      <td>2400</td>\n",
       "    </tr>\n",
       "    <tr>\n",
       "      <th>2</th>\n",
       "      <td>George Harrison</td>\n",
       "      <td>Bass</td>\n",
       "      <td>12</td>\n",
       "      <td>2000</td>\n",
       "    </tr>\n",
       "    <tr>\n",
       "      <th>3</th>\n",
       "      <td>Ringo Starr</td>\n",
       "      <td>Drums</td>\n",
       "      <td>8</td>\n",
       "      <td>1600</td>\n",
       "    </tr>\n",
       "    <tr>\n",
       "      <th>4</th>\n",
       "      <td>Frederico</td>\n",
       "      <td>Triangle</td>\n",
       "      <td>1</td>\n",
       "      <td>6</td>\n",
       "    </tr>\n",
       "  </tbody>\n",
       "</table>\n",
       "</div>"
      ],
      "text/plain": [
       "              name instrument tenure num_fans\n",
       "0       John Lenon     Vocals      9     9000\n",
       "1   Paul McCartney       Bass     12     2400\n",
       "2  George Harrison       Bass     12     2000\n",
       "3      Ringo Starr      Drums      8     1600\n",
       "4        Frederico   Triangle      1        6"
      ]
     },
     "execution_count": 21,
     "metadata": {},
     "output_type": "execute_result"
    }
   ],
   "source": [
    "#In fact they are too mutable! When you make changes to a slice of a dataframe, you are changing the original dataframe *even if you create a new object to store the slice*!!!\n",
    "\n",
    "beatles_names = beatles_df['name']\n",
    "beatles_names\n",
    "beatles_names[4]='Frederico'\n",
    "beatles_df"
   ]
  },
  {
   "cell_type": "code",
   "execution_count": 25,
   "metadata": {
    "colab": {
     "base_uri": "https://localhost:8080/",
     "height": 204
    },
    "executionInfo": {
     "elapsed": 402,
     "status": "ok",
     "timestamp": 1634764791103,
     "user": {
      "displayName": "José Pereira",
      "photoUrl": "https://lh3.googleusercontent.com/a-/AOh14Gg_vB6ycICg8k85y5qzz_rIwDb0hgH0qeL9u3Jq=s64",
      "userId": "11720796622572378519"
     },
     "user_tz": -60
    },
    "id": "XLWhXXOfIH8D",
    "outputId": "cf8b5c16-6387-4c2a-e04e-00c37e708ea0"
   },
   "outputs": [
    {
     "data": {
      "text/html": [
       "<div>\n",
       "<style scoped>\n",
       "    .dataframe tbody tr th:only-of-type {\n",
       "        vertical-align: middle;\n",
       "    }\n",
       "\n",
       "    .dataframe tbody tr th {\n",
       "        vertical-align: top;\n",
       "    }\n",
       "\n",
       "    .dataframe thead th {\n",
       "        text-align: right;\n",
       "    }\n",
       "</style>\n",
       "<table border=\"1\" class=\"dataframe\">\n",
       "  <thead>\n",
       "    <tr style=\"text-align: right;\">\n",
       "      <th></th>\n",
       "      <th>name</th>\n",
       "      <th>instrument</th>\n",
       "      <th>tenure</th>\n",
       "      <th>num_fans</th>\n",
       "    </tr>\n",
       "  </thead>\n",
       "  <tbody>\n",
       "    <tr>\n",
       "      <th>0</th>\n",
       "      <td>John Lenon</td>\n",
       "      <td>Vocals</td>\n",
       "      <td>9</td>\n",
       "      <td>9000</td>\n",
       "    </tr>\n",
       "    <tr>\n",
       "      <th>1</th>\n",
       "      <td>Paul McCartney</td>\n",
       "      <td>Bass</td>\n",
       "      <td>12</td>\n",
       "      <td>2400</td>\n",
       "    </tr>\n",
       "    <tr>\n",
       "      <th>2</th>\n",
       "      <td>George Harrison</td>\n",
       "      <td>Bass</td>\n",
       "      <td>12</td>\n",
       "      <td>2000</td>\n",
       "    </tr>\n",
       "    <tr>\n",
       "      <th>3</th>\n",
       "      <td>Ringo Starr</td>\n",
       "      <td>Drums</td>\n",
       "      <td>8</td>\n",
       "      <td>1600</td>\n",
       "    </tr>\n",
       "    <tr>\n",
       "      <th>4</th>\n",
       "      <td>Frederico</td>\n",
       "      <td>Triangle</td>\n",
       "      <td>1</td>\n",
       "      <td>6</td>\n",
       "    </tr>\n",
       "  </tbody>\n",
       "</table>\n",
       "</div>"
      ],
      "text/plain": [
       "              name instrument tenure num_fans\n",
       "0       John Lenon     Vocals      9     9000\n",
       "1   Paul McCartney       Bass     12     2400\n",
       "2  George Harrison       Bass     12     2000\n",
       "3      Ringo Starr      Drums      8     1600\n",
       "4        Frederico   Triangle      1        6"
      ]
     },
     "execution_count": 25,
     "metadata": {},
     "output_type": "execute_result"
    }
   ],
   "source": [
    "# to avoid this you should use the method .copy() in slices\n",
    "\n",
    "beatles_names = beatles_df['name'].copy()\n",
    "beatles_names\n",
    "beatles_names[4]='Jose Pereira'\n",
    "beatles_df"
   ]
  },
  {
   "cell_type": "code",
   "execution_count": 30,
   "metadata": {
    "colab": {
     "base_uri": "https://localhost:8080/"
    },
    "executionInfo": {
     "elapsed": 370,
     "status": "ok",
     "timestamp": 1634764904792,
     "user": {
      "displayName": "José Pereira",
      "photoUrl": "https://lh3.googleusercontent.com/a-/AOh14Gg_vB6ycICg8k85y5qzz_rIwDb0hgH0qeL9u3Jq=s64",
      "userId": "11720796622572378519"
     },
     "user_tz": -60
    },
    "id": "e2pTXiLK6gEC",
    "outputId": "6061b180-4e6c-4933-c687-921a6a5301c5"
   },
   "outputs": [
    {
     "data": {
      "text/plain": [
       "0     9\n",
       "1    12\n",
       "2    12\n",
       "3     8\n",
       "4     1\n",
       "Name: tenure, dtype: int64"
      ]
     },
     "execution_count": 30,
     "metadata": {},
     "output_type": "execute_result"
    }
   ],
   "source": [
    "# you can change whole columns at a time:\n",
    "\n",
    "beatles_df['tenure']\n",
    "beatles_df['tenure'] = beatles_df['tenure'].astype(str)\n",
    "beatles_df['tenure'] = beatles_df['tenure'].astype(int)\n",
    "beatles_df['tenure']"
   ]
  },
  {
   "cell_type": "code",
   "execution_count": 31,
   "metadata": {
    "colab": {
     "base_uri": "https://localhost:8080/",
     "height": 204
    },
    "executionInfo": {
     "elapsed": 291,
     "status": "ok",
     "timestamp": 1634764919691,
     "user": {
      "displayName": "José Pereira",
      "photoUrl": "https://lh3.googleusercontent.com/a-/AOh14Gg_vB6ycICg8k85y5qzz_rIwDb0hgH0qeL9u3Jq=s64",
      "userId": "11720796622572378519"
     },
     "user_tz": -60
    },
    "id": "dBG_6BPEJpeA",
    "outputId": "fd200fd6-22c2-409f-895b-58d7355c54f9"
   },
   "outputs": [
    {
     "data": {
      "text/html": [
       "<div>\n",
       "<style scoped>\n",
       "    .dataframe tbody tr th:only-of-type {\n",
       "        vertical-align: middle;\n",
       "    }\n",
       "\n",
       "    .dataframe tbody tr th {\n",
       "        vertical-align: top;\n",
       "    }\n",
       "\n",
       "    .dataframe thead th {\n",
       "        text-align: right;\n",
       "    }\n",
       "</style>\n",
       "<table border=\"1\" class=\"dataframe\">\n",
       "  <thead>\n",
       "    <tr style=\"text-align: right;\">\n",
       "      <th></th>\n",
       "      <th>name</th>\n",
       "      <th>instrument</th>\n",
       "      <th>tenure</th>\n",
       "      <th>num_fans</th>\n",
       "      <th>avg_fans_year</th>\n",
       "    </tr>\n",
       "  </thead>\n",
       "  <tbody>\n",
       "    <tr>\n",
       "      <th>0</th>\n",
       "      <td>John Lenon</td>\n",
       "      <td>Vocals</td>\n",
       "      <td>9</td>\n",
       "      <td>9000</td>\n",
       "      <td>1000.000000</td>\n",
       "    </tr>\n",
       "    <tr>\n",
       "      <th>1</th>\n",
       "      <td>Paul McCartney</td>\n",
       "      <td>Bass</td>\n",
       "      <td>12</td>\n",
       "      <td>2400</td>\n",
       "      <td>200.000000</td>\n",
       "    </tr>\n",
       "    <tr>\n",
       "      <th>2</th>\n",
       "      <td>George Harrison</td>\n",
       "      <td>Bass</td>\n",
       "      <td>12</td>\n",
       "      <td>2000</td>\n",
       "      <td>166.666667</td>\n",
       "    </tr>\n",
       "    <tr>\n",
       "      <th>3</th>\n",
       "      <td>Ringo Starr</td>\n",
       "      <td>Drums</td>\n",
       "      <td>8</td>\n",
       "      <td>1600</td>\n",
       "      <td>200.000000</td>\n",
       "    </tr>\n",
       "    <tr>\n",
       "      <th>4</th>\n",
       "      <td>Frederico</td>\n",
       "      <td>Triangle</td>\n",
       "      <td>1</td>\n",
       "      <td>6</td>\n",
       "      <td>6.000000</td>\n",
       "    </tr>\n",
       "  </tbody>\n",
       "</table>\n",
       "</div>"
      ],
      "text/plain": [
       "              name instrument  tenure  num_fans  avg_fans_year\n",
       "0       John Lenon     Vocals       9      9000    1000.000000\n",
       "1   Paul McCartney       Bass      12      2400     200.000000\n",
       "2  George Harrison       Bass      12      2000     166.666667\n",
       "3      Ringo Starr      Drums       8      1600     200.000000\n",
       "4        Frederico   Triangle       1         6       6.000000"
      ]
     },
     "execution_count": 31,
     "metadata": {},
     "output_type": "execute_result"
    }
   ],
   "source": [
    "# and create new columns all at once from other columns\n",
    "beatles_df['avg_fans_year'] = beatles_df['num_fans']/beatles_df['tenure']\n",
    "beatles_df"
   ]
  },
  {
   "cell_type": "code",
   "execution_count": 32,
   "metadata": {
    "colab": {
     "base_uri": "https://localhost:8080/"
    },
    "executionInfo": {
     "elapsed": 423,
     "status": "ok",
     "timestamp": 1634764939575,
     "user": {
      "displayName": "José Pereira",
      "photoUrl": "https://lh3.googleusercontent.com/a-/AOh14Gg_vB6ycICg8k85y5qzz_rIwDb0hgH0qeL9u3Jq=s64",
      "userId": "11720796622572378519"
     },
     "user_tz": -60
    },
    "id": "mtZIAOGxJ_ms",
    "outputId": "1f02c15f-b407-4127-eac9-25568a001421"
   },
   "outputs": [
    {
     "data": {
      "text/plain": [
       "15006"
      ]
     },
     "execution_count": 32,
     "metadata": {},
     "output_type": "execute_result"
    }
   ],
   "source": [
    "#you can also apply mathematical functions to entire columns at once\n",
    "beatles_df['num_fans'].sum()"
   ]
  },
  {
   "cell_type": "code",
   "execution_count": null,
   "metadata": {
    "colab": {
     "base_uri": "https://localhost:8080/",
     "height": 403
    },
    "executionInfo": {
     "elapsed": 743,
     "status": "ok",
     "timestamp": 1610573555625,
     "user": {
      "displayName": "David Henriques",
      "photoUrl": "",
      "userId": "14332050621134291491"
     },
     "user_tz": 0
    },
    "id": "_Vlot_1gKPVs",
    "outputId": "a1ccb799-5ba9-448f-d03b-a0762502c4b8"
   },
   "outputs": [
    {
     "data": {
      "text/html": [
       "<div>\n",
       "<style scoped>\n",
       "    .dataframe tbody tr th:only-of-type {\n",
       "        vertical-align: middle;\n",
       "    }\n",
       "\n",
       "    .dataframe tbody tr th {\n",
       "        vertical-align: top;\n",
       "    }\n",
       "\n",
       "    .dataframe thead th {\n",
       "        text-align: right;\n",
       "    }\n",
       "</style>\n",
       "<table border=\"1\" class=\"dataframe\">\n",
       "  <thead>\n",
       "    <tr style=\"text-align: right;\">\n",
       "      <th></th>\n",
       "      <th>instrument played</th>\n",
       "      <th>avg num fans</th>\n",
       "    </tr>\n",
       "  </thead>\n",
       "  <tbody>\n",
       "    <tr>\n",
       "      <th>0</th>\n",
       "      <td>Vocals</td>\n",
       "      <td>700</td>\n",
       "    </tr>\n",
       "    <tr>\n",
       "      <th>1</th>\n",
       "      <td>Drums</td>\n",
       "      <td>150</td>\n",
       "    </tr>\n",
       "    <tr>\n",
       "      <th>2</th>\n",
       "      <td>Piano</td>\n",
       "      <td>100</td>\n",
       "    </tr>\n",
       "    <tr>\n",
       "      <th>3</th>\n",
       "      <td>Guitar</td>\n",
       "      <td>550</td>\n",
       "    </tr>\n",
       "    <tr>\n",
       "      <th>4</th>\n",
       "      <td>Bass</td>\n",
       "      <td>180</td>\n",
       "    </tr>\n",
       "    <tr>\n",
       "      <th>5</th>\n",
       "      <td>Triangle</td>\n",
       "      <td>10</td>\n",
       "    </tr>\n",
       "  </tbody>\n",
       "</table>\n",
       "</div>"
      ],
      "text/plain": [
       "  instrument played  avg num fans\n",
       "0            Vocals           700\n",
       "1             Drums           150\n",
       "2             Piano           100\n",
       "3            Guitar           550\n",
       "4              Bass           180\n",
       "5          Triangle            10"
      ]
     },
     "metadata": {
      "tags": []
     },
     "output_type": "display_data"
    },
    {
     "data": {
      "text/html": [
       "<div>\n",
       "<style scoped>\n",
       "    .dataframe tbody tr th:only-of-type {\n",
       "        vertical-align: middle;\n",
       "    }\n",
       "\n",
       "    .dataframe tbody tr th {\n",
       "        vertical-align: top;\n",
       "    }\n",
       "\n",
       "    .dataframe thead th {\n",
       "        text-align: right;\n",
       "    }\n",
       "</style>\n",
       "<table border=\"1\" class=\"dataframe\">\n",
       "  <thead>\n",
       "    <tr style=\"text-align: right;\">\n",
       "      <th></th>\n",
       "      <th>name</th>\n",
       "      <th>instrument</th>\n",
       "      <th>tenure</th>\n",
       "      <th>num_fans</th>\n",
       "      <th>avg_fans_year</th>\n",
       "      <th>instrument played</th>\n",
       "      <th>avg num fans</th>\n",
       "    </tr>\n",
       "  </thead>\n",
       "  <tbody>\n",
       "    <tr>\n",
       "      <th>0</th>\n",
       "      <td>John Lenon</td>\n",
       "      <td>Vocals</td>\n",
       "      <td>9</td>\n",
       "      <td>9000</td>\n",
       "      <td>1000.000000</td>\n",
       "      <td>Vocals</td>\n",
       "      <td>700</td>\n",
       "    </tr>\n",
       "    <tr>\n",
       "      <th>1</th>\n",
       "      <td>Paul McCartney</td>\n",
       "      <td>Bass</td>\n",
       "      <td>12</td>\n",
       "      <td>2400</td>\n",
       "      <td>200.000000</td>\n",
       "      <td>Bass</td>\n",
       "      <td>180</td>\n",
       "    </tr>\n",
       "    <tr>\n",
       "      <th>2</th>\n",
       "      <td>George Harrison</td>\n",
       "      <td>Bass</td>\n",
       "      <td>12</td>\n",
       "      <td>2000</td>\n",
       "      <td>166.666667</td>\n",
       "      <td>Bass</td>\n",
       "      <td>180</td>\n",
       "    </tr>\n",
       "    <tr>\n",
       "      <th>3</th>\n",
       "      <td>Ringo Starr</td>\n",
       "      <td>Drums</td>\n",
       "      <td>8</td>\n",
       "      <td>1600</td>\n",
       "      <td>200.000000</td>\n",
       "      <td>Drums</td>\n",
       "      <td>150</td>\n",
       "    </tr>\n",
       "    <tr>\n",
       "      <th>4</th>\n",
       "      <td>Jose Pereira</td>\n",
       "      <td>Triangle</td>\n",
       "      <td>1</td>\n",
       "      <td>6</td>\n",
       "      <td>6.000000</td>\n",
       "      <td>Triangle</td>\n",
       "      <td>10</td>\n",
       "    </tr>\n",
       "  </tbody>\n",
       "</table>\n",
       "</div>"
      ],
      "text/plain": [
       "              name instrument  ...  instrument played  avg num fans\n",
       "0       John Lenon     Vocals  ...             Vocals           700\n",
       "1   Paul McCartney       Bass  ...               Bass           180\n",
       "2  George Harrison       Bass  ...               Bass           180\n",
       "3      Ringo Starr      Drums  ...              Drums           150\n",
       "4     Jose Pereira   Triangle  ...           Triangle            10\n",
       "\n",
       "[5 rows x 7 columns]"
      ]
     },
     "execution_count": 40,
     "metadata": {
      "tags": []
     },
     "output_type": "execute_result"
    }
   ],
   "source": [
    "#advanced (for now)\n",
    "#you can combine the information from two dataframes based on their values\n",
    "\n",
    "baseline = pd.DataFrame([['Vocals',700],['Drums',150],['Piano',100],['Guitar',550],['Bass',180],['Triangle',10]],columns=['instrument played','avg num fans'])\n",
    "display(baseline)\n",
    "#NTS: show difference between display and print\n",
    "\n",
    "# enriched = pd.merge(left = beatles_df,\n",
    "#                     right = baseline,\n",
    "#                     left_on = 'instrument',\n",
    "#                     right_on = 'instrument played',\n",
    "#                     how='inner'\n",
    "#                     )  \n",
    "# enriched"
   ]
  },
  {
   "cell_type": "code",
   "execution_count": null,
   "metadata": {
    "colab": {
     "base_uri": "https://localhost:8080/",
     "height": 195
    },
    "executionInfo": {
     "elapsed": 728,
     "status": "ok",
     "timestamp": 1610573683338,
     "user": {
      "displayName": "David Henriques",
      "photoUrl": "",
      "userId": "14332050621134291491"
     },
     "user_tz": 0
    },
    "id": "D_WwllBZRJPm",
    "outputId": "1dc544c8-c81a-4f14-ee68-5dc9d57282b4"
   },
   "outputs": [
    {
     "data": {
      "text/html": [
       "<div>\n",
       "<style scoped>\n",
       "    .dataframe tbody tr th:only-of-type {\n",
       "        vertical-align: middle;\n",
       "    }\n",
       "\n",
       "    .dataframe tbody tr th {\n",
       "        vertical-align: top;\n",
       "    }\n",
       "\n",
       "    .dataframe thead th {\n",
       "        text-align: right;\n",
       "    }\n",
       "</style>\n",
       "<table border=\"1\" class=\"dataframe\">\n",
       "  <thead>\n",
       "    <tr style=\"text-align: right;\">\n",
       "      <th></th>\n",
       "      <th>name</th>\n",
       "      <th>instrument</th>\n",
       "      <th>tenure</th>\n",
       "      <th>num_fans</th>\n",
       "      <th>avg_fans_year</th>\n",
       "      <th>instrument played</th>\n",
       "      <th>avg num fans</th>\n",
       "      <th>overacheived</th>\n",
       "    </tr>\n",
       "  </thead>\n",
       "  <tbody>\n",
       "    <tr>\n",
       "      <th>0</th>\n",
       "      <td>John Lenon</td>\n",
       "      <td>Vocals</td>\n",
       "      <td>9</td>\n",
       "      <td>9000</td>\n",
       "      <td>1000.000000</td>\n",
       "      <td>Vocals</td>\n",
       "      <td>700</td>\n",
       "      <td>True</td>\n",
       "    </tr>\n",
       "    <tr>\n",
       "      <th>1</th>\n",
       "      <td>Paul McCartney</td>\n",
       "      <td>Bass</td>\n",
       "      <td>12</td>\n",
       "      <td>2400</td>\n",
       "      <td>200.000000</td>\n",
       "      <td>Bass</td>\n",
       "      <td>180</td>\n",
       "      <td>True</td>\n",
       "    </tr>\n",
       "    <tr>\n",
       "      <th>2</th>\n",
       "      <td>George Harrison</td>\n",
       "      <td>Bass</td>\n",
       "      <td>12</td>\n",
       "      <td>2000</td>\n",
       "      <td>166.666667</td>\n",
       "      <td>Bass</td>\n",
       "      <td>180</td>\n",
       "      <td>False</td>\n",
       "    </tr>\n",
       "    <tr>\n",
       "      <th>3</th>\n",
       "      <td>Ringo Starr</td>\n",
       "      <td>Drums</td>\n",
       "      <td>8</td>\n",
       "      <td>1600</td>\n",
       "      <td>200.000000</td>\n",
       "      <td>Drums</td>\n",
       "      <td>150</td>\n",
       "      <td>True</td>\n",
       "    </tr>\n",
       "    <tr>\n",
       "      <th>4</th>\n",
       "      <td>Jose Pereira</td>\n",
       "      <td>Triangle</td>\n",
       "      <td>1</td>\n",
       "      <td>6</td>\n",
       "      <td>6.000000</td>\n",
       "      <td>Triangle</td>\n",
       "      <td>10</td>\n",
       "      <td>False</td>\n",
       "    </tr>\n",
       "  </tbody>\n",
       "</table>\n",
       "</div>"
      ],
      "text/plain": [
       "              name instrument  ...  avg num fans  overacheived\n",
       "0       John Lenon     Vocals  ...           700          True\n",
       "1   Paul McCartney       Bass  ...           180          True\n",
       "2  George Harrison       Bass  ...           180         False\n",
       "3      Ringo Starr      Drums  ...           150          True\n",
       "4     Jose Pereira   Triangle  ...            10         False\n",
       "\n",
       "[5 rows x 8 columns]"
      ]
     },
     "execution_count": 42,
     "metadata": {
      "tags": []
     },
     "output_type": "execute_result"
    }
   ],
   "source": [
    "# you can compare columns, just like you can do operations between them\n",
    "enriched['overacheived'] = enriched['avg_fans_year'] > enriched['avg num fans']\n",
    "enriched"
   ]
  },
  {
   "cell_type": "code",
   "execution_count": null,
   "metadata": {
    "colab": {
     "base_uri": "https://localhost:8080/"
    },
    "executionInfo": {
     "elapsed": 954,
     "status": "ok",
     "timestamp": 1610573687528,
     "user": {
      "displayName": "David Henriques",
      "photoUrl": "",
      "userId": "14332050621134291491"
     },
     "user_tz": 0
    },
    "id": "WW7hwrtlq3sy",
    "outputId": "39dce257-f19b-45fa-aa65-0525ca98be42"
   },
   "outputs": [
    {
     "data": {
      "text/plain": [
       "0     True\n",
       "1     True\n",
       "2    False\n",
       "3     True\n",
       "4    False\n",
       "Name: overacheived, dtype: bool"
      ]
     },
     "execution_count": 43,
     "metadata": {
      "tags": []
     },
     "output_type": "execute_result"
    }
   ],
   "source": [
    "# a column like this is called a boolean mask\n",
    "enriched['overacheived']"
   ]
  },
  {
   "cell_type": "code",
   "execution_count": null,
   "metadata": {
    "colab": {
     "base_uri": "https://localhost:8080/",
     "height": 136
    },
    "executionInfo": {
     "elapsed": 701,
     "status": "ok",
     "timestamp": 1610573703376,
     "user": {
      "displayName": "David Henriques",
      "photoUrl": "",
      "userId": "14332050621134291491"
     },
     "user_tz": 0
    },
    "id": "GLg3vWxgKPZ-",
    "outputId": "73b5cd53-193f-4931-b080-3ad1a77dc2c7"
   },
   "outputs": [
    {
     "data": {
      "text/html": [
       "<div>\n",
       "<style scoped>\n",
       "    .dataframe tbody tr th:only-of-type {\n",
       "        vertical-align: middle;\n",
       "    }\n",
       "\n",
       "    .dataframe tbody tr th {\n",
       "        vertical-align: top;\n",
       "    }\n",
       "\n",
       "    .dataframe thead th {\n",
       "        text-align: right;\n",
       "    }\n",
       "</style>\n",
       "<table border=\"1\" class=\"dataframe\">\n",
       "  <thead>\n",
       "    <tr style=\"text-align: right;\">\n",
       "      <th></th>\n",
       "      <th>name</th>\n",
       "      <th>instrument</th>\n",
       "      <th>tenure</th>\n",
       "      <th>num_fans</th>\n",
       "      <th>avg_fans_year</th>\n",
       "      <th>instrument played</th>\n",
       "      <th>avg num fans</th>\n",
       "      <th>overacheived</th>\n",
       "    </tr>\n",
       "  </thead>\n",
       "  <tbody>\n",
       "    <tr>\n",
       "      <th>0</th>\n",
       "      <td>John Lenon</td>\n",
       "      <td>Vocals</td>\n",
       "      <td>9</td>\n",
       "      <td>9000</td>\n",
       "      <td>1000.0</td>\n",
       "      <td>Vocals</td>\n",
       "      <td>700</td>\n",
       "      <td>True</td>\n",
       "    </tr>\n",
       "    <tr>\n",
       "      <th>1</th>\n",
       "      <td>Paul McCartney</td>\n",
       "      <td>Bass</td>\n",
       "      <td>12</td>\n",
       "      <td>2400</td>\n",
       "      <td>200.0</td>\n",
       "      <td>Bass</td>\n",
       "      <td>180</td>\n",
       "      <td>True</td>\n",
       "    </tr>\n",
       "    <tr>\n",
       "      <th>3</th>\n",
       "      <td>Ringo Starr</td>\n",
       "      <td>Drums</td>\n",
       "      <td>8</td>\n",
       "      <td>1600</td>\n",
       "      <td>200.0</td>\n",
       "      <td>Drums</td>\n",
       "      <td>150</td>\n",
       "      <td>True</td>\n",
       "    </tr>\n",
       "  </tbody>\n",
       "</table>\n",
       "</div>"
      ],
      "text/plain": [
       "             name instrument  ...  avg num fans  overacheived\n",
       "0      John Lenon     Vocals  ...           700          True\n",
       "1  Paul McCartney       Bass  ...           180          True\n",
       "3     Ringo Starr      Drums  ...           150          True\n",
       "\n",
       "[3 rows x 8 columns]"
      ]
     },
     "execution_count": 44,
     "metadata": {
      "tags": []
     },
     "output_type": "execute_result"
    }
   ],
   "source": [
    "# finally, you can filter based on values\n",
    "only_overacheivers = enriched[enriched['overacheived']==True]\n",
    "only_overacheivers"
   ]
  },
  {
   "cell_type": "code",
   "execution_count": null,
   "metadata": {
    "id": "viyOIjXdMhT9"
   },
   "outputs": [],
   "source": [
    "import pandas as pd"
   ]
  },
  {
   "cell_type": "code",
   "execution_count": null,
   "metadata": {
    "colab": {
     "base_uri": "https://localhost:8080/",
     "height": 402
    },
    "executionInfo": {
     "elapsed": 761,
     "status": "ok",
     "timestamp": 1610632929798,
     "user": {
      "displayName": "David Henriques",
      "photoUrl": "",
      "userId": "14332050621134291491"
     },
     "user_tz": 0
    },
    "id": "6Jaab08k7cVz",
    "outputId": "22055be3-7f8e-4a8b-f17d-ce5c40052832"
   },
   "outputs": [
    {
     "data": {
      "text/html": [
       "<div>\n",
       "<style scoped>\n",
       "    .dataframe tbody tr th:only-of-type {\n",
       "        vertical-align: middle;\n",
       "    }\n",
       "\n",
       "    .dataframe tbody tr th {\n",
       "        vertical-align: top;\n",
       "    }\n",
       "\n",
       "    .dataframe thead th {\n",
       "        text-align: right;\n",
       "    }\n",
       "</style>\n",
       "<table border=\"1\" class=\"dataframe\">\n",
       "  <thead>\n",
       "    <tr style=\"text-align: right;\">\n",
       "      <th></th>\n",
       "      <th>longitude</th>\n",
       "      <th>latitude</th>\n",
       "      <th>housing_median_age</th>\n",
       "      <th>total_rooms</th>\n",
       "      <th>total_bedrooms</th>\n",
       "      <th>population</th>\n",
       "      <th>households</th>\n",
       "      <th>median_income</th>\n",
       "      <th>median_house_value</th>\n",
       "    </tr>\n",
       "  </thead>\n",
       "  <tbody>\n",
       "    <tr>\n",
       "      <th>0</th>\n",
       "      <td>-122.05</td>\n",
       "      <td>37.37</td>\n",
       "      <td>27.0</td>\n",
       "      <td>3885.0</td>\n",
       "      <td>661.0</td>\n",
       "      <td>1537.0</td>\n",
       "      <td>606.0</td>\n",
       "      <td>6.6085</td>\n",
       "      <td>344700.0</td>\n",
       "    </tr>\n",
       "    <tr>\n",
       "      <th>1</th>\n",
       "      <td>-118.30</td>\n",
       "      <td>34.26</td>\n",
       "      <td>43.0</td>\n",
       "      <td>1510.0</td>\n",
       "      <td>310.0</td>\n",
       "      <td>809.0</td>\n",
       "      <td>277.0</td>\n",
       "      <td>3.5990</td>\n",
       "      <td>176500.0</td>\n",
       "    </tr>\n",
       "    <tr>\n",
       "      <th>2</th>\n",
       "      <td>-117.81</td>\n",
       "      <td>33.78</td>\n",
       "      <td>27.0</td>\n",
       "      <td>3589.0</td>\n",
       "      <td>507.0</td>\n",
       "      <td>1484.0</td>\n",
       "      <td>495.0</td>\n",
       "      <td>5.7934</td>\n",
       "      <td>270500.0</td>\n",
       "    </tr>\n",
       "    <tr>\n",
       "      <th>3</th>\n",
       "      <td>-118.36</td>\n",
       "      <td>33.82</td>\n",
       "      <td>28.0</td>\n",
       "      <td>67.0</td>\n",
       "      <td>15.0</td>\n",
       "      <td>49.0</td>\n",
       "      <td>11.0</td>\n",
       "      <td>6.1359</td>\n",
       "      <td>330000.0</td>\n",
       "    </tr>\n",
       "    <tr>\n",
       "      <th>4</th>\n",
       "      <td>-119.67</td>\n",
       "      <td>36.33</td>\n",
       "      <td>19.0</td>\n",
       "      <td>1241.0</td>\n",
       "      <td>244.0</td>\n",
       "      <td>850.0</td>\n",
       "      <td>237.0</td>\n",
       "      <td>2.9375</td>\n",
       "      <td>81700.0</td>\n",
       "    </tr>\n",
       "    <tr>\n",
       "      <th>...</th>\n",
       "      <td>...</td>\n",
       "      <td>...</td>\n",
       "      <td>...</td>\n",
       "      <td>...</td>\n",
       "      <td>...</td>\n",
       "      <td>...</td>\n",
       "      <td>...</td>\n",
       "      <td>...</td>\n",
       "      <td>...</td>\n",
       "    </tr>\n",
       "    <tr>\n",
       "      <th>2995</th>\n",
       "      <td>-119.86</td>\n",
       "      <td>34.42</td>\n",
       "      <td>23.0</td>\n",
       "      <td>1450.0</td>\n",
       "      <td>642.0</td>\n",
       "      <td>1258.0</td>\n",
       "      <td>607.0</td>\n",
       "      <td>1.1790</td>\n",
       "      <td>225000.0</td>\n",
       "    </tr>\n",
       "    <tr>\n",
       "      <th>2996</th>\n",
       "      <td>-118.14</td>\n",
       "      <td>34.06</td>\n",
       "      <td>27.0</td>\n",
       "      <td>5257.0</td>\n",
       "      <td>1082.0</td>\n",
       "      <td>3496.0</td>\n",
       "      <td>1036.0</td>\n",
       "      <td>3.3906</td>\n",
       "      <td>237200.0</td>\n",
       "    </tr>\n",
       "    <tr>\n",
       "      <th>2997</th>\n",
       "      <td>-119.70</td>\n",
       "      <td>36.30</td>\n",
       "      <td>10.0</td>\n",
       "      <td>956.0</td>\n",
       "      <td>201.0</td>\n",
       "      <td>693.0</td>\n",
       "      <td>220.0</td>\n",
       "      <td>2.2895</td>\n",
       "      <td>62000.0</td>\n",
       "    </tr>\n",
       "    <tr>\n",
       "      <th>2998</th>\n",
       "      <td>-117.12</td>\n",
       "      <td>34.10</td>\n",
       "      <td>40.0</td>\n",
       "      <td>96.0</td>\n",
       "      <td>14.0</td>\n",
       "      <td>46.0</td>\n",
       "      <td>14.0</td>\n",
       "      <td>3.2708</td>\n",
       "      <td>162500.0</td>\n",
       "    </tr>\n",
       "    <tr>\n",
       "      <th>2999</th>\n",
       "      <td>-119.63</td>\n",
       "      <td>34.42</td>\n",
       "      <td>42.0</td>\n",
       "      <td>1765.0</td>\n",
       "      <td>263.0</td>\n",
       "      <td>753.0</td>\n",
       "      <td>260.0</td>\n",
       "      <td>8.5608</td>\n",
       "      <td>500001.0</td>\n",
       "    </tr>\n",
       "  </tbody>\n",
       "</table>\n",
       "<p>3000 rows × 9 columns</p>\n",
       "</div>"
      ],
      "text/plain": [
       "      longitude  latitude  ...  median_income  median_house_value\n",
       "0       -122.05     37.37  ...         6.6085            344700.0\n",
       "1       -118.30     34.26  ...         3.5990            176500.0\n",
       "2       -117.81     33.78  ...         5.7934            270500.0\n",
       "3       -118.36     33.82  ...         6.1359            330000.0\n",
       "4       -119.67     36.33  ...         2.9375             81700.0\n",
       "...         ...       ...  ...            ...                 ...\n",
       "2995    -119.86     34.42  ...         1.1790            225000.0\n",
       "2996    -118.14     34.06  ...         3.3906            237200.0\n",
       "2997    -119.70     36.30  ...         2.2895             62000.0\n",
       "2998    -117.12     34.10  ...         3.2708            162500.0\n",
       "2999    -119.63     34.42  ...         8.5608            500001.0\n",
       "\n",
       "[3000 rows x 9 columns]"
      ]
     },
     "execution_count": 9,
     "metadata": {
      "tags": []
     },
     "output_type": "execute_result"
    }
   ],
   "source": [
    "# read data from a csv\n",
    "# this csv is a \"database\" of housing prices\n",
    "\n",
    "df = pd.read_csv(\"sample_data/california_housing_test.csv\")\n",
    "df"
   ]
  },
  {
   "cell_type": "code",
   "execution_count": null,
   "metadata": {
    "id": "utwg1XIz734S"
   },
   "outputs": [],
   "source": [
    "df.to_csv(\"output_file.csv\")#,index=False)"
   ]
  },
  {
   "cell_type": "code",
   "execution_count": null,
   "metadata": {
    "id": "j1Uw8Dy0Mj0x"
   },
   "outputs": [],
   "source": []
  }
 ],
 "metadata": {
  "colab": {
   "collapsed_sections": [],
   "name": "pandas.ipynb",
   "provenance": []
  },
  "kernelspec": {
   "display_name": "Python 3",
   "language": "python",
   "name": "python3"
  },
  "language_info": {
   "codemirror_mode": {
    "name": "ipython",
    "version": 3
   },
   "file_extension": ".py",
   "mimetype": "text/x-python",
   "name": "python",
   "nbconvert_exporter": "python",
   "pygments_lexer": "ipython3",
   "version": "3.8.8"
  }
 },
 "nbformat": 4,
 "nbformat_minor": 1
}
